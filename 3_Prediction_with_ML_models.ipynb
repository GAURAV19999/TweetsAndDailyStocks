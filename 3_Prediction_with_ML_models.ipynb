{
 "cells": [
  {
   "cell_type": "markdown",
   "metadata": {
    "id": "2ws3c9OS89Cn"
   },
   "source": [
    "\n",
    "\n",
    "---\n",
    "\n",
    "\n",
    "# **Prediction with ML models**\n",
    "#### ***Correlation between after-hours twitter data and movement of individual company stock price on a daily basis***\n",
    "\n",
    "\n",
    "---\n",
    "\n",
    "\n",
    "\n",
    "**Final Project**\n",
    "CSCI 49362/76000   |   Fall 2020 \n",
    "\n",
    "##### Hannah Do, Andrew Lee, Phillip Chen\n",
    "\n",
    "\n",
    "\n",
    "\n",
    "\n"
   ]
  },
  {
   "cell_type": "code",
   "execution_count": 36,
   "metadata": {
    "colab": {
     "base_uri": "https://localhost:8080/"
    },
    "executionInfo": {
     "elapsed": 1373,
     "status": "ok",
     "timestamp": 1607165536120,
     "user": {
      "displayName": "Hannah Do",
      "photoUrl": "",
      "userId": "09169567944837111458"
     },
     "user_tz": -540
    },
    "id": "cFyz34eXc8gy",
    "outputId": "46810445-a3f3-450f-a612-74338826634f"
   },
   "outputs": [
    {
     "name": "stdout",
     "output_type": "stream",
     "text": [
      "All Libraries Sucessfully Imported\n"
     ]
    }
   ],
   "source": [
    "# Import all the libraries\n",
    "\n",
    "import pandas as pd\n",
    "import numpy as np\n",
    "import matplotlib.pyplot as plt\n",
    "import seaborn as sns\n",
    "import csv\n",
    "\n",
    "import datetime, string, re\n",
    "import sys, os\n",
    "\n",
    "from sklearn.neighbors import KNeighborsClassifier\n",
    "from sklearn.tree import DecisionTreeClassifier\n",
    "from sklearn.ensemble import RandomForestClassifier\n",
    "from sklearn.linear_model import LogisticRegression\n",
    "from sklearn.svm import SVC\n",
    "from sklearn.naive_bayes import GaussianNB\n",
    "\n",
    "\n",
    "from sklearn.model_selection import train_test_split\n",
    "from sklearn.model_selection import GridSearchCV\n",
    "from sklearn.feature_selection import SelectFromModel\n",
    "from sklearn.metrics import classification_report\n",
    "from sklearn.metrics import confusion_matrix\n",
    "from sklearn.metrics import accuracy_score\n",
    "from sklearn.metrics import roc_curve, auc\n",
    "\n",
    "from collections import Counter\n",
    "\n",
    "print('All Libraries Sucessfully Imported')"
   ]
  },
  {
   "cell_type": "code",
   "execution_count": 37,
   "metadata": {
    "executionInfo": {
     "elapsed": 619,
     "status": "ok",
     "timestamp": 1607165656797,
     "user": {
      "displayName": "Hannah Do",
      "photoUrl": "",
      "userId": "09169567944837111458"
     },
     "user_tz": -540
    },
    "id": "eV3q-iwpc8gy"
   },
   "outputs": [],
   "source": [
    "\n",
    "companies = ['microsoft', 'facebook', 'google', 'amazon', 'apple']\n"
   ]
  },
  {
   "cell_type": "markdown",
   "metadata": {},
   "source": [
    "---\n",
    "**1. Importing saved csv files for each company**"
   ]
  },
  {
   "cell_type": "code",
   "execution_count": 56,
   "metadata": {},
   "outputs": [],
   "source": [
    "# Create a function with many machine learning models \n",
    "def models(X_train, X_test, y_train, y_test):\n",
    "\n",
    "    list1 = []\n",
    "    \n",
    "    #Use Logistic regression & Cross Validation with different parameters - commented out because algorithm did not converge\n",
    "#     param_grid = {'penalty': ['l1', 'l2', 'elasticnet','none'], \"solver\": [\"newton-cg\", \"lbfgs\", \"liblinear\", \"sag\", \"saga\"], 'dual':[bool, False], 'C':[0.001, 0.1, 1, 10, 100], 'max_iter':[1, 500, 10000]}\n",
    "#     lr = LogisticRegression(multi_class='ovr')\n",
    "#     lr = GridSearchCV(lr, param_grid, scoring='accuracy', cv=10, verbose=1, n_jobs=-1)\n",
    "#     lr.fit(X_train, y_train)\n",
    "#     params_optimal = lr.best_params_\n",
    "#     log = LogisticRegression(multi_class='ovr', **params_optimal)\n",
    "    \n",
    "    log = LogisticRegression(multi_class='ovr')\n",
    "\n",
    "    log.fit(X_train, y_train)\n",
    "    y_pred=log.predict(X_test)\n",
    "\n",
    "    logistic_acc=accuracy_score(y_test, y_pred)\n",
    "    list1.append(logistic_acc)\n",
    "\n",
    "    \n",
    "    #Use KNeighbors & Cross Validation with different parameters - not adequate for our dataset\n",
    "#     param_grid = {'n_neighbors': [3, 5, 10], 'p': [1, 5, 10, 100], 'weights': [\"uniform\", \"distance\"]}\n",
    "#     knn = KNeighborsClassifier()\n",
    "#     knn = GridSearchCV(knn, param_grid, scoring='f1_micro', cv=5, verbose=1, n_jobs=-1)\n",
    "#     knn.fit(X_train, y_train)\n",
    "#     params_optimal = knn.best_params_\n",
    "    \n",
    "#     knn_optimal = KNeighborsClassifier(**params_optimal)\n",
    "#     knn_optimal = KNeighborsClassifier()\n",
    "\n",
    "#     knn_optimal.fit(X_train, y_train)\n",
    "#     y_pred=knn_optimal.predict(X_test)\n",
    "\n",
    "#     knn_acc=accuracy_score(y_test, y_pred)\n",
    "#     list1.append(knn_acc)\n",
    "    \n",
    "\n",
    "    #Use SVC (RBF kernal)\n",
    "    svc_rbf = SVC(kernel='rbf', random_state = 4)\n",
    "    svc_rbf.fit(X_train, y_train)\n",
    "    y_pred=svc_rbf.predict(X_test)\n",
    "\n",
    "    svc_rbf_acc=accuracy_score(y_test, y_pred)\n",
    "    list1.append(svc_rbf_acc)\n",
    "\n",
    "    \n",
    "    #Use GaussianNB\n",
    "    gauss = GaussianNB()\n",
    "    gauss.fit(X_train, y_train)\n",
    "    y_pred=gauss.predict(X_test)\n",
    "\n",
    "    gauss_acc=accuracy_score(y_test, y_pred)\n",
    "    list1.append(gauss_acc)\n",
    "\n",
    "    \n",
    "    #Use Decision Tree\n",
    "    tree = DecisionTreeClassifier(criterion = 'entropy', random_state = 0)\n",
    "    tree.fit(X_train, y_train)\n",
    "    y_pred=tree.predict(X_test)\n",
    "\n",
    "    tree_acc=accuracy_score(y_test, y_pred)\n",
    "    list1.append(tree_acc)\n",
    "\n",
    "\n",
    "    #Use the RandomForestClassifier\n",
    "    forest = RandomForestClassifier(n_estimators=10, criterion='entropy', random_state=0)\n",
    "    forest.fit(X_train, y_train)\n",
    "    y_pred=forest.predict(X_test)\n",
    "\n",
    "    forest_acc=accuracy_score(y_test, y_pred)\n",
    "    list1.append(forest_acc)\n",
    " \n",
    "    return list1"
   ]
  },
  {
   "cell_type": "code",
   "execution_count": 58,
   "metadata": {
    "id": "rjPC3qZKc8gz",
    "outputId": "50f28bad-4862-4acb-b58d-40d4b36a6815"
   },
   "outputs": [
    {
     "data": {
      "text/html": [
       "<div>\n",
       "<style scoped>\n",
       "    .dataframe tbody tr th:only-of-type {\n",
       "        vertical-align: middle;\n",
       "    }\n",
       "\n",
       "    .dataframe tbody tr th {\n",
       "        vertical-align: top;\n",
       "    }\n",
       "\n",
       "    .dataframe thead th {\n",
       "        text-align: right;\n",
       "    }\n",
       "</style>\n",
       "<table border=\"1\" class=\"dataframe\">\n",
       "  <thead>\n",
       "    <tr style=\"text-align: right;\">\n",
       "      <th></th>\n",
       "      <th>microsoft</th>\n",
       "      <th>facebook</th>\n",
       "      <th>google</th>\n",
       "      <th>amazon</th>\n",
       "      <th>apple</th>\n",
       "    </tr>\n",
       "  </thead>\n",
       "  <tbody>\n",
       "    <tr>\n",
       "      <th>0</th>\n",
       "      <td>0.615385</td>\n",
       "      <td>0.615385</td>\n",
       "      <td>0.769231</td>\n",
       "      <td>0.769231</td>\n",
       "      <td>0.461538</td>\n",
       "    </tr>\n",
       "    <tr>\n",
       "      <th>1</th>\n",
       "      <td>0.615385</td>\n",
       "      <td>0.615385</td>\n",
       "      <td>0.769231</td>\n",
       "      <td>0.769231</td>\n",
       "      <td>0.615385</td>\n",
       "    </tr>\n",
       "    <tr>\n",
       "      <th>2</th>\n",
       "      <td>0.769231</td>\n",
       "      <td>0.846154</td>\n",
       "      <td>0.769231</td>\n",
       "      <td>0.615385</td>\n",
       "      <td>0.769231</td>\n",
       "    </tr>\n",
       "    <tr>\n",
       "      <th>3</th>\n",
       "      <td>0.923077</td>\n",
       "      <td>0.846154</td>\n",
       "      <td>0.769231</td>\n",
       "      <td>0.769231</td>\n",
       "      <td>0.923077</td>\n",
       "    </tr>\n",
       "    <tr>\n",
       "      <th>4</th>\n",
       "      <td>0.923077</td>\n",
       "      <td>0.846154</td>\n",
       "      <td>0.923077</td>\n",
       "      <td>0.769231</td>\n",
       "      <td>1.000000</td>\n",
       "    </tr>\n",
       "  </tbody>\n",
       "</table>\n",
       "</div>"
      ],
      "text/plain": [
       "   microsoft  facebook    google    amazon     apple\n",
       "0   0.615385  0.615385  0.769231  0.769231  0.461538\n",
       "1   0.615385  0.615385  0.769231  0.769231  0.615385\n",
       "2   0.769231  0.846154  0.769231  0.615385  0.769231\n",
       "3   0.923077  0.846154  0.769231  0.769231  0.923077\n",
       "4   0.923077  0.846154  0.923077  0.769231  1.000000"
      ]
     },
     "execution_count": 58,
     "metadata": {},
     "output_type": "execute_result"
    }
   ],
   "source": [
    "final_table = pd.DataFrame()\n",
    "\n",
    "for f in companies:\n",
    "\n",
    "    list0 = []\n",
    "    \n",
    "    temp = pd.read_csv(f + \"_scaled.csv\", index_col= None, header = None)\n",
    "\n",
    "    temp = temp.drop([0], axis=1)\n",
    "    # drop NaN column with index values\n",
    "\n",
    "#     temp = temp.drop([0, 8, 9], axis=1)\n",
    "    # dropping lowest importance features\n",
    "#     temp = temp.drop([0, 3, 4], axis=1)\n",
    "    # dropping NASDAQ for comparison\n",
    "\n",
    "    temp.columns = temp.iloc[0]\n",
    "    temp = temp[1:] \n",
    "    # make first row as column names\n",
    "\n",
    "    y = temp['target']\n",
    "    temp = temp.drop(f + ' stock', axis=1)\n",
    "    X = temp.drop('target', axis=1)\n",
    "    \n",
    "    X_train, X_test, y_train, y_test = train_test_split(X, y, test_size=0.2, random_state=1)\n",
    "\n",
    "    list0 = models(X_train, X_test, y_train, y_test)\n",
    "    \n",
    "    final_table[f] = list0\n",
    "    \n",
    "final_table"
   ]
  },
  {
   "cell_type": "code",
   "execution_count": 59,
   "metadata": {
    "id": "jyyYHwslc8g0",
    "outputId": "a5adf8a5-91ff-4556-cf9d-a18aa782f75b",
    "scrolled": true
   },
   "outputs": [
    {
     "data": {
      "text/html": [
       "<div>\n",
       "<style scoped>\n",
       "    .dataframe tbody tr th:only-of-type {\n",
       "        vertical-align: middle;\n",
       "    }\n",
       "\n",
       "    .dataframe tbody tr th {\n",
       "        vertical-align: top;\n",
       "    }\n",
       "\n",
       "    .dataframe thead th {\n",
       "        text-align: right;\n",
       "    }\n",
       "</style>\n",
       "<table border=\"1\" class=\"dataframe\">\n",
       "  <thead>\n",
       "    <tr style=\"text-align: right;\">\n",
       "      <th></th>\n",
       "      <th>microsoft</th>\n",
       "      <th>facebook</th>\n",
       "      <th>google</th>\n",
       "      <th>amazon</th>\n",
       "      <th>apple</th>\n",
       "    </tr>\n",
       "  </thead>\n",
       "  <tbody>\n",
       "    <tr>\n",
       "      <th>Logistic Regression</th>\n",
       "      <td>0.615385</td>\n",
       "      <td>0.615385</td>\n",
       "      <td>0.769231</td>\n",
       "      <td>0.769231</td>\n",
       "      <td>0.461538</td>\n",
       "    </tr>\n",
       "    <tr>\n",
       "      <th>SVC-rbf</th>\n",
       "      <td>0.615385</td>\n",
       "      <td>0.615385</td>\n",
       "      <td>0.769231</td>\n",
       "      <td>0.769231</td>\n",
       "      <td>0.615385</td>\n",
       "    </tr>\n",
       "    <tr>\n",
       "      <th>Gaussian NB</th>\n",
       "      <td>0.769231</td>\n",
       "      <td>0.846154</td>\n",
       "      <td>0.769231</td>\n",
       "      <td>0.615385</td>\n",
       "      <td>0.769231</td>\n",
       "    </tr>\n",
       "    <tr>\n",
       "      <th>Decision Tree</th>\n",
       "      <td>0.923077</td>\n",
       "      <td>0.846154</td>\n",
       "      <td>0.769231</td>\n",
       "      <td>0.769231</td>\n",
       "      <td>0.923077</td>\n",
       "    </tr>\n",
       "    <tr>\n",
       "      <th>Random Forest</th>\n",
       "      <td>0.923077</td>\n",
       "      <td>0.846154</td>\n",
       "      <td>0.923077</td>\n",
       "      <td>0.769231</td>\n",
       "      <td>1.000000</td>\n",
       "    </tr>\n",
       "  </tbody>\n",
       "</table>\n",
       "</div>"
      ],
      "text/plain": [
       "                     microsoft  facebook    google    amazon     apple\n",
       "Logistic Regression   0.615385  0.615385  0.769231  0.769231  0.461538\n",
       "SVC-rbf               0.615385  0.615385  0.769231  0.769231  0.615385\n",
       "Gaussian NB           0.769231  0.846154  0.769231  0.615385  0.769231\n",
       "Decision Tree         0.923077  0.846154  0.769231  0.769231  0.923077\n",
       "Random Forest         0.923077  0.846154  0.923077  0.769231  1.000000"
      ]
     },
     "execution_count": 59,
     "metadata": {},
     "output_type": "execute_result"
    }
   ],
   "source": [
    "ml_models = ['Logistic Regression','SVC-rbf', 'Gaussian NB', 'Decision Tree', 'Random Forest']\n",
    "final_table.index = ml_models\n",
    "\n",
    "final_table"
   ]
  },
  {
   "cell_type": "code",
   "execution_count": 60,
   "metadata": {},
   "outputs": [
    {
     "name": "stderr",
     "output_type": "stream",
     "text": [
      "No handles with labels found to put in legend.\n"
     ]
    },
    {
     "data": {
      "image/png": "[encoded data removed]",
      "text/plain": [
       "<Figure size 432x288 with 1 Axes>"
      ]
     },
     "metadata": {
      "needs_background": "light"
     },
     "output_type": "display_data"
    }
   ],
   "source": [
    "forest = RandomForestClassifier(n_estimators=10, criterion='entropy', random_state=0)\n",
    "forest.fit(X_train, y_train)\n",
    "# y_pred=forest.predict(X_test)\n",
    "\n",
    "feature_imp = pd.Series(forest.feature_importances_,index=X_train.columns).sort_values(ascending=False)\n",
    "\n",
    "# selected_feat= X.columns[(sel.get_support())]\n",
    "\n",
    "\n",
    "# Creating a bar plot, displaying only the top k features\n",
    "k=10\n",
    "sns.barplot(x=feature_imp[:10], y=feature_imp.index[:k])\n",
    "# Add labels to your graph\n",
    "plt.xlabel('Feature Importance Score - Facebook')\n",
    "plt.ylabel('Features')\n",
    "plt.title(\"Visualizing Important Features\")\n",
    "plt.legend()\n",
    "plt.show()"
   ]
  },
  {
   "cell_type": "code",
   "execution_count": null,
   "metadata": {},
   "outputs": [],
   "source": []
  }
 ],
 "metadata": {
  "accelerator": "TPU",
  "colab": {
   "collapsed_sections": [],
   "name": "Getting_Twitter_data.ipynb",
   "provenance": []
  },
  "kernelspec": {
   "display_name": "Python 3",
   "language": "python",
   "name": "python3"
  },
  "language_info": {
   "codemirror_mode": {
    "name": "ipython",
    "version": 3
   },
   "file_extension": ".py",
   "mimetype": "text/x-python",
   "name": "python",
   "nbconvert_exporter": "python",
   "pygments_lexer": "ipython3",
   "version": "3.8.3"
  }
 },
 "nbformat": 4,
 "nbformat_minor": 1
}
